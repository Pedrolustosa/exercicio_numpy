{
  "cells": [
    {
      "cell_type": "markdown",
      "metadata": {
        "id": "view-in-github",
        "colab_type": "text"
      },
      "source": [
        "<a href=\"https://colab.research.google.com/github/Pedrolustosa/exercicio_numpy/blob/main/exercicio_numpy.ipynb\" target=\"_parent\"><img src=\"https://colab.research.google.com/assets/colab-badge.svg\" alt=\"Open In Colab\"/></a>"
      ]
    },
    {
      "cell_type": "markdown",
      "metadata": {
        "id": "VGz5Hi19AHfe"
      },
      "source": [
        "### Numpy"
      ]
    },
    {
      "cell_type": "markdown",
      "metadata": {
        "id": "jOgJ673PAVe9"
      },
      "source": [
        "1 - Utilize o método numpy.info para obter informações do método numpy.add."
      ]
    },
    {
      "cell_type": "code",
      "execution_count": 4,
      "metadata": {
        "id": "dd9qnc_KAFDd",
        "colab": {
          "base_uri": "https://localhost:8080/"
        },
        "outputId": "b8e5022a-6a2b-424b-d90b-7eda9bcd6847"
      },
      "outputs": [
        {
          "output_type": "stream",
          "name": "stdout",
          "text": [
            "add(x1, x2, /, out=None, *, where=True, casting='same_kind', order='K', dtype=None, subok=True[, signature, extobj])\n",
            "\n",
            "Add arguments element-wise.\n",
            "\n",
            "Parameters\n",
            "----------\n",
            "x1, x2 : array_like\n",
            "    The arrays to be added.\n",
            "    If ``x1.shape != x2.shape``, they must be broadcastable to a common\n",
            "    shape (which becomes the shape of the output).\n",
            "out : ndarray, None, or tuple of ndarray and None, optional\n",
            "    A location into which the result is stored. If provided, it must have\n",
            "    a shape that the inputs broadcast to. If not provided or None,\n",
            "    a freshly-allocated array is returned. A tuple (possible only as a\n",
            "    keyword argument) must have length equal to the number of outputs.\n",
            "where : array_like, optional\n",
            "    This condition is broadcast over the input. At locations where the\n",
            "    condition is True, the `out` array will be set to the ufunc result.\n",
            "    Elsewhere, the `out` array will retain its original value.\n",
            "    Note that if an uninitialized `out` array is created via the default\n",
            "    ``out=None``, locations within it where the condition is False will\n",
            "    remain uninitialized.\n",
            "**kwargs\n",
            "    For other keyword-only arguments, see the\n",
            "    :ref:`ufunc docs <ufuncs.kwargs>`.\n",
            "\n",
            "Returns\n",
            "-------\n",
            "add : ndarray or scalar\n",
            "    The sum of `x1` and `x2`, element-wise.\n",
            "    This is a scalar if both `x1` and `x2` are scalars.\n",
            "\n",
            "Notes\n",
            "-----\n",
            "Equivalent to `x1` + `x2` in terms of array broadcasting.\n",
            "\n",
            "Examples\n",
            "--------\n",
            ">>> np.add(1.0, 4.0)\n",
            "5.0\n",
            ">>> x1 = np.arange(9.0).reshape((3, 3))\n",
            ">>> x2 = np.arange(3.0)\n",
            ">>> np.add(x1, x2)\n",
            "array([[  0.,   2.,   4.],\n",
            "       [  3.,   5.,   7.],\n",
            "       [  6.,   8.,  10.]])\n",
            "\n",
            "The ``+`` operator can be used as a shorthand for ``np.add`` on ndarrays.\n",
            "\n",
            ">>> x1 = np.arange(9.0).reshape((3, 3))\n",
            ">>> x2 = np.arange(3.0)\n",
            ">>> x1 + x2\n",
            "array([[ 0.,  2.,  4.],\n",
            "       [ 3.,  5.,  7.],\n",
            "       [ 6.,  8., 10.]])\n"
          ]
        }
      ],
      "source": [
        "# Insira a resposta abaixo.\n",
        "import numpy as np\n",
        "\n",
        "np.info(np.add)\n"
      ]
    },
    {
      "cell_type": "markdown",
      "metadata": {
        "id": "Q5efGWHZh56U"
      },
      "source": [
        "2 - Utilize a função *range* do python para criar automaticamente uma lista de números variando de 0 até 15."
      ]
    },
    {
      "cell_type": "code",
      "execution_count": 5,
      "metadata": {
        "id": "GVsgl1nch5SO",
        "colab": {
          "base_uri": "https://localhost:8080/"
        },
        "outputId": "a0f693a5-fcbe-4999-8104-450cdf670b35"
      },
      "outputs": [
        {
          "output_type": "stream",
          "name": "stdout",
          "text": [
            "[0, 1, 2, 3, 4, 5, 6, 7, 8, 9, 10, 11, 12, 13, 14, 15]\n"
          ]
        }
      ],
      "source": [
        "# Insira a resposta abaixo.\n",
        "numeros = list(range(16))\n",
        "print(numeros)"
      ]
    },
    {
      "cell_type": "markdown",
      "metadata": {
        "id": "dy8uX84YkCEl"
      },
      "source": [
        "3 - Converta a lista criada para um objeto do tipo numpy array."
      ]
    },
    {
      "cell_type": "code",
      "execution_count": 6,
      "metadata": {
        "id": "NlFDOAPykCLL",
        "colab": {
          "base_uri": "https://localhost:8080/"
        },
        "outputId": "fad50032-df81-4794-cb8d-1850afe81329"
      },
      "outputs": [
        {
          "output_type": "stream",
          "name": "stdout",
          "text": [
            "[ 0  1  2  3  4  5  6  7  8  9 10 11 12 13 14 15]\n"
          ]
        }
      ],
      "source": [
        "# Insira a resposta abaixo.\n",
        "numeros_array = np.array(numeros)\n",
        "print(numeros_array)\n"
      ]
    },
    {
      "cell_type": "markdown",
      "metadata": {
        "id": "FcO_NxsCvyeU"
      },
      "source": [
        "4 - Crie um  novo array equivalente ao anterior utilizando diretamente os recursos do numpy."
      ]
    },
    {
      "cell_type": "code",
      "execution_count": 7,
      "metadata": {
        "id": "c7_sWaDCvzE4",
        "colab": {
          "base_uri": "https://localhost:8080/"
        },
        "outputId": "ba85e6de-5145-4a03-98ff-ba3255e3b949"
      },
      "outputs": [
        {
          "output_type": "stream",
          "name": "stdout",
          "text": [
            "[0 1 2 3 4 5 6 7 8 9]\n"
          ]
        }
      ],
      "source": [
        "# Insira a resposta abaixo.\n",
        "numeros_array = np.arange(10)\n",
        "print(numeros_array)"
      ]
    },
    {
      "cell_type": "markdown",
      "metadata": {
        "id": "gJY_WOENd6HG"
      },
      "source": [
        "5 - Utilize o array criado anteriormente para exibir o tipo de dado antes e após convertê-lo para um tipo float. Em seguida, converta novamente o array para um tipo de dado inteiro de 32 bits e exiba o tipo numérico  atual."
      ]
    },
    {
      "cell_type": "code",
      "execution_count": 8,
      "metadata": {
        "id": "2wPQee-td6Me",
        "colab": {
          "base_uri": "https://localhost:8080/"
        },
        "outputId": "ae59573b-05a1-48e5-f30a-8a0a530eb55f"
      },
      "outputs": [
        {
          "output_type": "stream",
          "name": "stdout",
          "text": [
            "Tipo de dado original: int64\n",
            "Tipo de dado após conversão para float: float64\n",
            "Tipo de dado após conversão para inteiro de 32 bits: int32\n"
          ]
        }
      ],
      "source": [
        "# Insira a resposta abaixo.\n",
        "numeros_array = np.arange(16)\n",
        "print(\"Tipo de dado original:\", numeros_array.dtype)\n",
        "numeros_array_float = numeros_array.astype(float)\n",
        "print(\"Tipo de dado após conversão para float:\", numeros_array_float.dtype)\n",
        "numeros_array_int32 = numeros_array_float.astype(np.int32)\n",
        "print(\"Tipo de dado após conversão para inteiro de 32 bits:\", numeros_array_int32.dtype)\n"
      ]
    },
    {
      "cell_type": "markdown",
      "metadata": {
        "id": "2ziDHfRniNJO"
      },
      "source": [
        "6 - A partir do último array utilizado anteriormente, realize os seguintes procedimentos:\n",
        "\n",
        "1. Exiba o formato atual do array.\n",
        "2. Altere o formato para (4, 4).\n",
        "3. Exiba novamente o formato do array após redimensioná-lo."
      ]
    },
    {
      "cell_type": "code",
      "execution_count": 9,
      "metadata": {
        "id": "XwO6gC8HiNP-",
        "colab": {
          "base_uri": "https://localhost:8080/"
        },
        "outputId": "e042fb7e-065b-4629-a1f5-5cbeff161d86"
      },
      "outputs": [
        {
          "output_type": "stream",
          "name": "stdout",
          "text": [
            "Formato atual do array: (16,)\n",
            "Formato do array após redimensionamento: (4, 4)\n"
          ]
        }
      ],
      "source": [
        "# Insira a resposta abaixo.\n",
        "numeros_array = np.arange(16)\n",
        "numeros_array_int32 = numeros_array.astype(np.int32)\n",
        "print(\"Formato atual do array:\", numeros_array_int32.shape)\n",
        "numeros_array_int32 = numeros_array_int32.reshape(4, 4)\n",
        "print(\"Formato do array após redimensionamento:\", numeros_array_int32.shape)"
      ]
    },
    {
      "cell_type": "markdown",
      "metadata": {
        "id": "0nPZclb0iM5g"
      },
      "source": [
        "7 - Compute a média, mediana e o desvio padrão do array resultante da questão anterior."
      ]
    },
    {
      "cell_type": "code",
      "execution_count": 10,
      "metadata": {
        "id": "FU6RU4zdiNAH",
        "colab": {
          "base_uri": "https://localhost:8080/"
        },
        "outputId": "58d9cea3-c60e-4bab-938c-9c019f06e101"
      },
      "outputs": [
        {
          "output_type": "stream",
          "name": "stdout",
          "text": [
            "Array:\n",
            "[[ 0  1  2  3]\n",
            " [ 4  5  6  7]\n",
            " [ 8  9 10 11]\n",
            " [12 13 14 15]]\n",
            "\n",
            "Média: 7.5\n",
            "Mediana: 7.5\n",
            "Desvio padrão: 4.6097722286464435\n"
          ]
        }
      ],
      "source": [
        "# Insira a resposta abaixo.\n",
        "numeros_array = np.arange(16, dtype=np.int32)\n",
        "numeros_array = numeros_array.reshape(4, 4)\n",
        "media = np.mean(numeros_array)\n",
        "mediana = np.median(numeros_array)\n",
        "desvio_padrao = np.std(numeros_array)\n",
        "print(\"Array:\")\n",
        "print(numeros_array)\n",
        "print(\"\\nMédia:\", media)\n",
        "print(\"Mediana:\", mediana)\n",
        "print(\"Desvio padrão:\", desvio_padrao)\n"
      ]
    },
    {
      "cell_type": "markdown",
      "metadata": {
        "id": "qAoocu6Gpe2e"
      },
      "source": [
        "8 - Crie uma cópia do array atual  e transforme todos os números em valores negativos."
      ]
    },
    {
      "cell_type": "code",
      "execution_count": 11,
      "metadata": {
        "id": "-8nm9e13pe9L",
        "colab": {
          "base_uri": "https://localhost:8080/"
        },
        "outputId": "78ee0bba-eec4-45e8-ea70-231d4f49dc0d"
      },
      "outputs": [
        {
          "output_type": "stream",
          "name": "stdout",
          "text": [
            "Array Original:\n",
            "[[ 0  1  2  3]\n",
            " [ 4  5  6  7]\n",
            " [ 8  9 10 11]\n",
            " [12 13 14 15]]\n",
            "\n",
            "Array com Números Negativos:\n",
            "[[  0  -1  -2  -3]\n",
            " [ -4  -5  -6  -7]\n",
            " [ -8  -9 -10 -11]\n",
            " [-12 -13 -14 -15]]\n"
          ]
        }
      ],
      "source": [
        "# Insira a resposta abaixo.\n",
        "numeros_array = np.arange(16, dtype=np.int32)\n",
        "numeros_array = numeros_array.reshape(4, 4)\n",
        "numeros_array_negativo = np.copy(numeros_array)\n",
        "numeros_array_negativo *= -1\n",
        "print(\"Array Original:\")\n",
        "print(numeros_array)\n",
        "print(\"\\nArray com Números Negativos:\")\n",
        "print(numeros_array_negativo)\n"
      ]
    },
    {
      "cell_type": "markdown",
      "metadata": {
        "id": "pRzaEWYD9_S5"
      },
      "source": [
        "9 - Realize os seguintes procedimentos:\n",
        "1. Concatene verticalmente (*row-wise*) o array de números positivos com o array de números negativos.\n",
        "2.  Concatene horizontalmente (*column-wise*) o array resultante do passo 1 com ele mesmo.\n",
        "3. Concatene em profundidade três cópias do array resultante do passo anterior, exibindo o formato final."
      ]
    },
    {
      "cell_type": "code",
      "execution_count": 12,
      "metadata": {
        "id": "1MfG1qNZlmww",
        "colab": {
          "base_uri": "https://localhost:8080/"
        },
        "outputId": "0153071c-d2bc-4c14-f21e-7701f3985d35"
      },
      "outputs": [
        {
          "output_type": "stream",
          "name": "stdout",
          "text": [
            "Formato final do array:\n",
            "(8, 8, 3)\n"
          ]
        }
      ],
      "source": [
        "# Insira a resposta abaixo.\n",
        "numeros_array = np.arange(16, dtype=np.int32)\n",
        "numeros_array = numeros_array.reshape(4, 4)\n",
        "numeros_array_negativo = -np.copy(numeros_array)\n",
        "concatenacao_vertical = np.vstack((numeros_array, numeros_array_negativo))\n",
        "concatenacao_horizontal = np.hstack((concatenacao_vertical, concatenacao_vertical))\n",
        "concatenacao_profundidade = np.dstack((concatenacao_horizontal, concatenacao_horizontal, concatenacao_horizontal))\n",
        "print(\"Formato final do array:\")\n",
        "print(concatenacao_profundidade.shape)"
      ]
    },
    {
      "cell_type": "markdown",
      "metadata": {
        "id": "EqJGutyuqOQP"
      },
      "source": [
        "10 - Utilize o array do passo 1 da questão anterior e transforme os valores da segunda e terceira colunas em 1."
      ]
    },
    {
      "cell_type": "code",
      "execution_count": 13,
      "metadata": {
        "id": "TqhdooB0qOXv",
        "colab": {
          "base_uri": "https://localhost:8080/"
        },
        "outputId": "1c8bda8f-eb56-49c8-e60e-ea856342ed92"
      },
      "outputs": [
        {
          "output_type": "stream",
          "name": "stdout",
          "text": [
            "Array modificado:\n",
            "[[  0   1   1   3]\n",
            " [  4   1   1   7]\n",
            " [  8   1   1  11]\n",
            " [ 12   1   1  15]\n",
            " [  0   1   1  -3]\n",
            " [ -4   1   1  -7]\n",
            " [ -8   1   1 -11]\n",
            " [-12   1   1 -15]]\n"
          ]
        }
      ],
      "source": [
        "# Insira a resposta abaixo.\n",
        "numeros_array = np.arange(16).reshape(4, 4)\n",
        "numeros_array_negativo = -np.copy(numeros_array)\n",
        "concatenacao_vertical = np.vstack((numeros_array, numeros_array_negativo))\n",
        "concatenacao_vertical[:, 1:3] = 1\n",
        "print(\"Array modificado:\")\n",
        "print(concatenacao_vertical)\n"
      ]
    },
    {
      "cell_type": "markdown",
      "metadata": {
        "id": "f0MyTxFXroNr"
      },
      "source": [
        "11 - Adicione 2.5 a todos os valores presentes no array resultante da etapa anterior."
      ]
    },
    {
      "cell_type": "code",
      "execution_count": 15,
      "metadata": {
        "id": "kgfy9kHEroVi",
        "colab": {
          "base_uri": "https://localhost:8080/"
        },
        "outputId": "da2f5ce3-efd7-4866-ebb0-254b98f7710a"
      },
      "outputs": [
        {
          "output_type": "stream",
          "name": "stdout",
          "text": [
            "Array após adicionar 2.5:\n",
            "[[  2.5   3.5   3.5   5.5]\n",
            " [  6.5   3.5   3.5   9.5]\n",
            " [ 10.5   3.5   3.5  13.5]\n",
            " [ 14.5   3.5   3.5  17.5]\n",
            " [  2.5   1.5   1.5  -0.5]\n",
            " [ -1.5   1.5   1.5  -4.5]\n",
            " [ -5.5   1.5   1.5  -8.5]\n",
            " [ -9.5   1.5   1.5 -12.5]]\n"
          ]
        }
      ],
      "source": [
        "# Insira a resposta abaixo.\n",
        "array_modificado = np.array([\n",
        "    [  0,   1,   1,   3],\n",
        "    [  4,   1,   1,   7],\n",
        "    [  8,   1,   1,  11],\n",
        "    [ 12,   1,   1,  15],\n",
        "    [  0,  -1,  -1,  -3],\n",
        "    [ -4,  -1,  -1,  -7],\n",
        "    [ -8,  -1,  -1, -11],\n",
        "    [-12,  -1,  -1, -15]\n",
        "], dtype=np.float64)\n",
        "\n",
        "array_modificado += 2.5\n",
        "print(\"Array após adicionar 2.5:\")\n",
        "print(array_modificado)"
      ]
    },
    {
      "cell_type": "markdown",
      "metadata": {
        "id": "_1sAVEKf-Adl"
      },
      "source": [
        "12 - Apresente uma contagem dos valores únicos que estão presentes no array criado na questão anterior.\n",
        "\n",
        " Siga o seguinte template: \"Quantidade de ocorrências do elemento {}: {}\""
      ]
    },
    {
      "cell_type": "code",
      "execution_count": 16,
      "metadata": {
        "id": "VGgNM6Nf-Aj0",
        "colab": {
          "base_uri": "https://localhost:8080/"
        },
        "outputId": "9ef604ce-311c-41b9-fa0f-0c5af2ba90a2"
      },
      "outputs": [
        {
          "output_type": "stream",
          "name": "stdout",
          "text": [
            "Quantidade de ocorrências do elemento -12.5: 1\n",
            "Quantidade de ocorrências do elemento -9.5: 1\n",
            "Quantidade de ocorrências do elemento -8.5: 1\n",
            "Quantidade de ocorrências do elemento -5.5: 1\n",
            "Quantidade de ocorrências do elemento -4.5: 1\n",
            "Quantidade de ocorrências do elemento -1.5: 1\n",
            "Quantidade de ocorrências do elemento -0.5: 1\n",
            "Quantidade de ocorrências do elemento 1.5: 8\n",
            "Quantidade de ocorrências do elemento 2.5: 2\n",
            "Quantidade de ocorrências do elemento 3.5: 8\n",
            "Quantidade de ocorrências do elemento 5.5: 1\n",
            "Quantidade de ocorrências do elemento 6.5: 1\n",
            "Quantidade de ocorrências do elemento 9.5: 1\n",
            "Quantidade de ocorrências do elemento 10.5: 1\n",
            "Quantidade de ocorrências do elemento 13.5: 1\n",
            "Quantidade de ocorrências do elemento 14.5: 1\n",
            "Quantidade de ocorrências do elemento 17.5: 1\n"
          ]
        }
      ],
      "source": [
        "# Insira a resposta abaixo.\n",
        "array_modificado = np.array([array_modificado], dtype=np.float64)\n",
        "valores_unicos, contagens = np.unique(array_modificado, return_counts=True)\n",
        "for valor, contagem in zip(valores_unicos, contagens):\n",
        "    print(\"Quantidade de ocorrências do elemento {}: {}\".format(valor, contagem))"
      ]
    },
    {
      "cell_type": "markdown",
      "metadata": {
        "id": "zyQGpUvQiNW-"
      },
      "source": [
        "13 - Realize as seguintes operações:\n",
        "1. Crie uma matriz com valor 3 em todas as posições com dimensionalidade (4, 2).\n",
        "2. Crie uma matriz identidade de dimensionalidade (4, 4).\n",
        "3. Compute o produto entre a transposta da primeira matriz e a matriz identidade, apresentando o resultado final."
      ]
    },
    {
      "cell_type": "code",
      "execution_count": 17,
      "metadata": {
        "id": "ncBYLgsSiNdm",
        "colab": {
          "base_uri": "https://localhost:8080/"
        },
        "outputId": "d944a1b7-950c-45e0-b7a0-ee1d3850040c"
      },
      "outputs": [
        {
          "output_type": "stream",
          "name": "stdout",
          "text": [
            "Resultado do produto:\n",
            "[[3. 3. 3. 3.]\n",
            " [3. 3. 3. 3.]]\n"
          ]
        }
      ],
      "source": [
        "# Insira a resposta abaixo.\n",
        "matriz_3 = np.full((4, 2), 3)\n",
        "matriz_identidade = np.eye(4)\n",
        "produto = matriz_3.T @ matriz_identidade\n",
        "print(\"Resultado do produto:\")\n",
        "print(produto)\n"
      ]
    },
    {
      "cell_type": "markdown",
      "metadata": {
        "id": "HxFz7WugiOiT"
      },
      "source": [
        "14 - Realize as seguintes operações:\n",
        "1. Crie uma nova matriz de valores inteiros de 25 até 49 com dimensionalidade (5,5).\n",
        "2. Crie uma nova matriz com valores uniformemente espaçados entre 0 e 1 e defina a sua dimensionalidade em (5,1).\n",
        "3. Concatene horizontalmente as duas matrizes criadas anteriormente."
      ]
    },
    {
      "cell_type": "code",
      "execution_count": 18,
      "metadata": {
        "id": "nzxfA0UNZ9Fv",
        "colab": {
          "base_uri": "https://localhost:8080/"
        },
        "outputId": "ab51806d-3f33-4dea-8de9-dfcf2e91e0b8"
      },
      "outputs": [
        {
          "output_type": "stream",
          "name": "stdout",
          "text": [
            "Matriz de inteiros:\n",
            "[[25 26 27 28 29]\n",
            " [30 31 32 33 34]\n",
            " [35 36 37 38 39]\n",
            " [40 41 42 43 44]\n",
            " [45 46 47 48 49]]\n",
            "\n",
            "Matriz uniforme:\n",
            "[[0.03259342]\n",
            " [0.06646919]\n",
            " [0.28851495]\n",
            " [0.04417655]\n",
            " [0.52037718]]\n",
            "\n",
            "Resultado da concatenação horizontal:\n",
            "[[2.50000000e+01 2.60000000e+01 2.70000000e+01 2.80000000e+01\n",
            "  2.90000000e+01 3.25934216e-02]\n",
            " [3.00000000e+01 3.10000000e+01 3.20000000e+01 3.30000000e+01\n",
            "  3.40000000e+01 6.64691939e-02]\n",
            " [3.50000000e+01 3.60000000e+01 3.70000000e+01 3.80000000e+01\n",
            "  3.90000000e+01 2.88514954e-01]\n",
            " [4.00000000e+01 4.10000000e+01 4.20000000e+01 4.30000000e+01\n",
            "  4.40000000e+01 4.41765495e-02]\n",
            " [4.50000000e+01 4.60000000e+01 4.70000000e+01 4.80000000e+01\n",
            "  4.90000000e+01 5.20377178e-01]]\n"
          ]
        }
      ],
      "source": [
        "# Insira a resposta abaixo.\n",
        "matriz_inteiros = np.arange(25, 50).reshape(5, 5)\n",
        "matriz_uniforme = np.random.rand(5, 1)\n",
        "concatenacao_horizontal = np.hstack((matriz_inteiros, matriz_uniforme))\n",
        "print(\"Matriz de inteiros:\")\n",
        "print(matriz_inteiros)\n",
        "print(\"\\nMatriz uniforme:\")\n",
        "print(matriz_uniforme)\n",
        "print(\"\\nResultado da concatenação horizontal:\")\n",
        "print(concatenacao_horizontal)"
      ]
    },
    {
      "cell_type": "markdown",
      "metadata": {
        "id": "6897aBLlcw8E"
      },
      "source": [
        "15 - Crie uma nova matriz com dimensionalidade (5,1) com números uniformemente espaçados utilizando um espaço logarítmico ao invés de um espaço linear."
      ]
    },
    {
      "cell_type": "code",
      "execution_count": 19,
      "metadata": {
        "id": "bUZNJgYHcxKR",
        "colab": {
          "base_uri": "https://localhost:8080/"
        },
        "outputId": "4da47b94-679b-4e5f-a837-70ea385d747b"
      },
      "outputs": [
        {
          "output_type": "stream",
          "name": "stdout",
          "text": [
            "Matriz com espaçamento logarítmico:\n",
            "[[ 10.        ]\n",
            " [ 17.7827941 ]\n",
            " [ 31.6227766 ]\n",
            " [ 56.23413252]\n",
            " [100.        ]]\n"
          ]
        }
      ],
      "source": [
        "# Insira a resposta abaixo.\n",
        "matriz_logaritmica = np.logspace(start=1, stop=2, num=5).reshape(-1, 1)\n",
        "print(\"Matriz com espaçamento logarítmico:\")\n",
        "print(matriz_logaritmica)"
      ]
    },
    {
      "cell_type": "markdown",
      "metadata": {
        "id": "R-V4DIT5k3db"
      },
      "source": [
        "16 - Crie uma função que receba um array e adicione uma borda composta de zeros nos quatro lados do array. Utilize o array resultante da questão anterior para testar o método criado."
      ]
    },
    {
      "cell_type": "code",
      "execution_count": 20,
      "metadata": {
        "id": "jCPkpBUfiQvF",
        "colab": {
          "base_uri": "https://localhost:8080/"
        },
        "outputId": "225556c5-cfb1-409f-b7f8-879487684208"
      },
      "outputs": [
        {
          "output_type": "stream",
          "name": "stdout",
          "text": [
            "Matriz original:\n",
            "[[ 10.        ]\n",
            " [ 17.7827941 ]\n",
            " [ 31.6227766 ]\n",
            " [ 56.23413252]\n",
            " [100.        ]]\n",
            "\n",
            "Matriz com borda de zeros:\n",
            "[[  0.           0.           0.        ]\n",
            " [  0.          10.           0.        ]\n",
            " [  0.          17.7827941    0.        ]\n",
            " [  0.          31.6227766    0.        ]\n",
            " [  0.          56.23413252   0.        ]\n",
            " [  0.         100.           0.        ]\n",
            " [  0.           0.           0.        ]]\n"
          ]
        }
      ],
      "source": [
        "# Insira a resposta abaixo.\n",
        "def adicionar_borda_de_zeros(array):\n",
        "    pad_width = ((1, 1), (1, 1))\n",
        "    array_com_borda = np.pad(array, pad_width, mode='constant', constant_values=0)\n",
        "    return array_com_borda\n",
        "\n",
        "matriz_logaritmica = np.logspace(start=1, stop=2, num=5).reshape(-1, 1)\n",
        "matriz_com_borda = adicionar_borda_de_zeros(matriz_logaritmica)\n",
        "print(\"Matriz original:\")\n",
        "print(matriz_logaritmica)\n",
        "print(\"\\nMatriz com borda de zeros:\")\n",
        "print(matriz_com_borda)"
      ]
    },
    {
      "cell_type": "markdown",
      "metadata": {
        "id": "pfhKurRymAve"
      },
      "source": [
        "17 - Crie um array de 36 números aleatórios oriundos de uma distribuição normal. Exiba o valor máximo, mínimo, a média e o desvio padrão desse array."
      ]
    },
    {
      "cell_type": "code",
      "execution_count": 21,
      "metadata": {
        "id": "ocDrzobIlEFE",
        "colab": {
          "base_uri": "https://localhost:8080/"
        },
        "outputId": "a24ed660-878c-41aa-c499-c04903102516"
      },
      "outputs": [
        {
          "output_type": "stream",
          "name": "stdout",
          "text": [
            "Array de números aleatórios:\n",
            "[ 1.76405235  0.40015721  0.97873798  2.2408932   1.86755799 -0.97727788\n",
            "  0.95008842 -0.15135721 -0.10321885  0.4105985   0.14404357  1.45427351\n",
            "  0.76103773  0.12167502  0.44386323  0.33367433  1.49407907 -0.20515826\n",
            "  0.3130677  -0.85409574 -2.55298982  0.6536186   0.8644362  -0.74216502\n",
            "  2.26975462 -1.45436567  0.04575852 -0.18718385  1.53277921  1.46935877\n",
            "  0.15494743  0.37816252 -0.88778575 -1.98079647 -0.34791215  0.15634897]\n",
            "\n",
            "Valor máximo: 2.2697546239876076\n",
            "Valor mínimo: -2.5529898158340787\n",
            "Média: 0.29885161019772544\n",
            "Desvio padrão: 1.0904075497979766\n"
          ]
        }
      ],
      "source": [
        "# Insira a resposta abaixo.\n",
        "np.random.seed(0)\n",
        "array_normal = np.random.normal(size=36)\n",
        "print(\"Array de números aleatórios:\")\n",
        "print(array_normal)\n",
        "valor_maximo = np.max(array_normal)\n",
        "valor_minimo = np.min(array_normal)\n",
        "media = np.mean(array_normal)\n",
        "desvio_padrao = np.std(array_normal)\n",
        "print(\"\\nValor máximo:\", valor_maximo)\n",
        "print(\"Valor mínimo:\", valor_minimo)\n",
        "print(\"Média:\", media)\n",
        "print(\"Desvio padrão:\", desvio_padrao)"
      ]
    }
  ],
  "metadata": {
    "colab": {
      "provenance": [],
      "include_colab_link": true
    },
    "kernelspec": {
      "display_name": "Python 3 (ipykernel)",
      "language": "python",
      "name": "python3"
    },
    "language_info": {
      "codemirror_mode": {
        "name": "ipython",
        "version": 3
      },
      "file_extension": ".py",
      "mimetype": "text/x-python",
      "name": "python",
      "nbconvert_exporter": "python",
      "pygments_lexer": "ipython3",
      "version": "3.9.12"
    }
  },
  "nbformat": 4,
  "nbformat_minor": 0
}