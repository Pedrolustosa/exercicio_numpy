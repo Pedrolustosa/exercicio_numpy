{
  "cells": [
    {
      "cell_type": "markdown",
      "metadata": {
        "id": "view-in-github",
        "colab_type": "text"
      },
      "source": [
        "<a href=\"https://colab.research.google.com/github/Pedrolustosa/exercicio_numpy/blob/main/exercicio_numpy.ipynb\" target=\"_parent\"><img src=\"https://colab.research.google.com/assets/colab-badge.svg\" alt=\"Open In Colab\"/></a>"
      ]
    },
    {
      "cell_type": "markdown",
      "metadata": {
        "id": "VGz5Hi19AHfe"
      },
      "source": [
        "### Numpy"
      ]
    },
    {
      "cell_type": "markdown",
      "metadata": {
        "id": "jOgJ673PAVe9"
      },
      "source": [
        "1 - Utilize o método numpy.info para obter informações do método numpy.add."
      ]
    },
    {
      "cell_type": "code",
      "execution_count": null,
      "metadata": {
        "id": "dd9qnc_KAFDd"
      },
      "outputs": [],
      "source": [
        "# Insira a resposta abaixo.\n"
      ]
    },
    {
      "cell_type": "markdown",
      "metadata": {
        "id": "Q5efGWHZh56U"
      },
      "source": [
        "2 - Utilize a função *range* do python para criar automaticamente uma lista de números variando de 0 até 15."
      ]
    },
    {
      "cell_type": "code",
      "execution_count": null,
      "metadata": {
        "id": "GVsgl1nch5SO"
      },
      "outputs": [],
      "source": [
        "# Insira a resposta abaixo.\n"
      ]
    },
    {
      "cell_type": "markdown",
      "metadata": {
        "id": "dy8uX84YkCEl"
      },
      "source": [
        "3 - Converta a lista criada para um objeto do tipo numpy array."
      ]
    },
    {
      "cell_type": "code",
      "execution_count": null,
      "metadata": {
        "id": "NlFDOAPykCLL"
      },
      "outputs": [],
      "source": [
        "# Insira a resposta abaixo.\n"
      ]
    },
    {
      "cell_type": "markdown",
      "metadata": {
        "id": "FcO_NxsCvyeU"
      },
      "source": [
        "4 - Crie um  novo array equivalente ao anterior utilizando diretamente os recursos do numpy."
      ]
    },
    {
      "cell_type": "code",
      "execution_count": null,
      "metadata": {
        "id": "c7_sWaDCvzE4"
      },
      "outputs": [],
      "source": [
        "# Insira a resposta abaixo.\n"
      ]
    },
    {
      "cell_type": "markdown",
      "metadata": {
        "id": "gJY_WOENd6HG"
      },
      "source": [
        "5 - Utilize o array criado anteriormente para exibir o tipo de dado antes e após convertê-lo para um tipo float. Em seguida, converta novamente o array para um tipo de dado inteiro de 32 bits e exiba o tipo numérico  atual."
      ]
    },
    {
      "cell_type": "code",
      "execution_count": null,
      "metadata": {
        "id": "2wPQee-td6Me"
      },
      "outputs": [],
      "source": [
        "# Insira a resposta abaixo.\n"
      ]
    },
    {
      "cell_type": "markdown",
      "metadata": {
        "id": "2ziDHfRniNJO"
      },
      "source": [
        "6 - A partir do último array utilizado anteriormente, realize os seguintes procedimentos:\n",
        "\n",
        "1. Exiba o formato atual do array.\n",
        "2. Altere o formato para (4, 4).\n",
        "3. Exiba novamente o formato do array após redimensioná-lo."
      ]
    },
    {
      "cell_type": "code",
      "execution_count": null,
      "metadata": {
        "id": "XwO6gC8HiNP-"
      },
      "outputs": [],
      "source": [
        "# Insira a resposta abaixo.\n",
        "\n",
        "# Passo 1\n",
        "\n",
        "# Passo 2\n",
        "\n",
        "# Passo 3"
      ]
    },
    {
      "cell_type": "markdown",
      "metadata": {
        "id": "0nPZclb0iM5g"
      },
      "source": [
        "7 - Compute a média, mediana e o desvio padrão do array resultante da questão anterior."
      ]
    },
    {
      "cell_type": "code",
      "execution_count": null,
      "metadata": {
        "id": "FU6RU4zdiNAH"
      },
      "outputs": [],
      "source": [
        "# Insira a resposta abaixo.\n"
      ]
    },
    {
      "cell_type": "markdown",
      "metadata": {
        "id": "qAoocu6Gpe2e"
      },
      "source": [
        "8 - Crie uma cópia do array atual  e transforme todos os números em valores negativos."
      ]
    },
    {
      "cell_type": "code",
      "execution_count": null,
      "metadata": {
        "id": "-8nm9e13pe9L"
      },
      "outputs": [],
      "source": [
        "# Insira a resposta abaixo.\n"
      ]
    },
    {
      "cell_type": "markdown",
      "metadata": {
        "id": "pRzaEWYD9_S5"
      },
      "source": [
        "9 - Realize os seguintes procedimentos:\n",
        "1. Concatene verticalmente (*row-wise*) o array de números positivos com o array de números negativos.\n",
        "2.  Concatene horizontalmente (*column-wise*) o array resultante do passo 1 com ele mesmo.\n",
        "3. Concatene em profundidade três cópias do array resultante do passo anterior, exibindo o formato final."
      ]
    },
    {
      "cell_type": "code",
      "execution_count": null,
      "metadata": {
        "id": "1MfG1qNZlmww"
      },
      "outputs": [],
      "source": [
        "# Insira a resposta abaixo.\n",
        "\n",
        "# Passo 1\n",
        "\n",
        "# Passo 2\n",
        "\n",
        "# Passo 3\n"
      ]
    },
    {
      "cell_type": "markdown",
      "metadata": {
        "id": "EqJGutyuqOQP"
      },
      "source": [
        "10 - Utilize o array do passo 1 da questão anterior e transforme os valores da segunda e terceira colunas em 1."
      ]
    },
    {
      "cell_type": "code",
      "execution_count": null,
      "metadata": {
        "id": "TqhdooB0qOXv"
      },
      "outputs": [],
      "source": [
        "# Insira a resposta abaixo.\n"
      ]
    },
    {
      "cell_type": "markdown",
      "metadata": {
        "id": "f0MyTxFXroNr"
      },
      "source": [
        "11 - Adicione 2.5 a todos os valores presentes no array resultante da etapa anterior."
      ]
    },
    {
      "cell_type": "code",
      "execution_count": null,
      "metadata": {
        "id": "kgfy9kHEroVi"
      },
      "outputs": [],
      "source": [
        "# Insira a resposta abaixo.\n"
      ]
    },
    {
      "cell_type": "markdown",
      "metadata": {
        "id": "_1sAVEKf-Adl"
      },
      "source": [
        "12 - Apresente uma contagem dos valores únicos que estão presentes no array criado na questão anterior.\n",
        "\n",
        " Siga o seguinte template: \"Quantidade de ocorrências do elemento {}: {}\""
      ]
    },
    {
      "cell_type": "code",
      "execution_count": null,
      "metadata": {
        "id": "VGgNM6Nf-Aj0"
      },
      "outputs": [],
      "source": [
        "# Insira a resposta abaixo.\n"
      ]
    },
    {
      "cell_type": "markdown",
      "metadata": {
        "id": "zyQGpUvQiNW-"
      },
      "source": [
        "13 - Realize as seguintes operações:\n",
        "1. Crie uma matriz com valor 3 em todas as posições com dimensionalidade (4, 2).\n",
        "2. Crie uma matriz identidade de dimensionalidade (4, 4).\n",
        "3. Compute o produto entre a transposta da primeira matriz e a matriz identidade, apresentando o resultado final."
      ]
    },
    {
      "cell_type": "code",
      "execution_count": null,
      "metadata": {
        "id": "ncBYLgsSiNdm"
      },
      "outputs": [],
      "source": [
        "# Insira a resposta abaixo.\n",
        "\n",
        "# Passo 1\n",
        "\n",
        "# Passo 2\n",
        "\n",
        "# Passo 3\n"
      ]
    },
    {
      "cell_type": "markdown",
      "metadata": {
        "id": "HxFz7WugiOiT"
      },
      "source": [
        "14 - Realize as seguintes operações:\n",
        "1. Crie uma nova matriz de valores inteiros de 25 até 49 com dimensionalidade (5,5).\n",
        "2. Crie uma nova matriz com valores uniformemente espaçados entre 0 e 1 e defina a sua dimensionalidade em (5,1).\n",
        "3. Concatene horizontalmente as duas matrizes criadas anteriormente."
      ]
    },
    {
      "cell_type": "code",
      "execution_count": null,
      "metadata": {
        "id": "nzxfA0UNZ9Fv"
      },
      "outputs": [],
      "source": [
        "# Insira a resposta abaixo.\n",
        "\n",
        "# Passo 1\n",
        "\n",
        "# Passo 2\n",
        "\n",
        "# Passo 3\n"
      ]
    },
    {
      "cell_type": "markdown",
      "metadata": {
        "id": "6897aBLlcw8E"
      },
      "source": [
        "15 - Crie uma nova matriz com dimensionalidade (5,1) com números uniformemente espaçados utilizando um espaço logarítmico ao invés de um espaço linear."
      ]
    },
    {
      "cell_type": "code",
      "execution_count": null,
      "metadata": {
        "id": "bUZNJgYHcxKR"
      },
      "outputs": [],
      "source": [
        "# Insira a resposta abaixo.\n"
      ]
    },
    {
      "cell_type": "markdown",
      "metadata": {
        "id": "R-V4DIT5k3db"
      },
      "source": [
        "16 - Crie uma função que receba um array e adicione uma borda composta de zeros nos quatro lados do array. Utilize o array resultante da questão anterior para testar o método criado."
      ]
    },
    {
      "cell_type": "code",
      "execution_count": null,
      "metadata": {
        "id": "jCPkpBUfiQvF"
      },
      "outputs": [],
      "source": [
        "# Insira a resposta abaixo.\n"
      ]
    },
    {
      "cell_type": "markdown",
      "metadata": {
        "id": "pfhKurRymAve"
      },
      "source": [
        "17 - Crie um array de 36 números aleatórios oriundos de uma distribuição normal. Exiba o valor máximo, mínimo, a média e o desvio padrão desse array."
      ]
    },
    {
      "cell_type": "code",
      "execution_count": null,
      "metadata": {
        "id": "ocDrzobIlEFE"
      },
      "outputs": [],
      "source": [
        "# Insira a resposta abaixo.\n"
      ]
    }
  ],
  "metadata": {
    "colab": {
      "provenance": [],
      "include_colab_link": true
    },
    "kernelspec": {
      "display_name": "Python 3 (ipykernel)",
      "language": "python",
      "name": "python3"
    },
    "language_info": {
      "codemirror_mode": {
        "name": "ipython",
        "version": 3
      },
      "file_extension": ".py",
      "mimetype": "text/x-python",
      "name": "python",
      "nbconvert_exporter": "python",
      "pygments_lexer": "ipython3",
      "version": "3.9.12"
    }
  },
  "nbformat": 4,
  "nbformat_minor": 0
}